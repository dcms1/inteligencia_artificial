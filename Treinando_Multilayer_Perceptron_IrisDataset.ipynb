{
  "nbformat": 4,
  "nbformat_minor": 0,
  "metadata": {
    "colab": {
      "provenance": [],
      "toc_visible": true
    },
    "kernelspec": {
      "name": "python3",
      "display_name": "Python 3"
    }
  },
  "cells": [
    {
      "cell_type": "markdown",
      "source": [
        "Nessa seção vamos apresentar, explicar e executar um código em python, utilizando o Google Colab para treinar um modelo de uma rede neural multi-camadas (multilayer perceptron). \n",
        "\n",
        "A ideia é receber um conjunto de dados, montar a topologia da rede, aprender a utilizar biblioteca de criação de Multilayer Perceptron, realizar o treinamento e avaliar a rede treinada"
      ],
      "metadata": {
        "id": "YojKiIaeoUvX"
      }
    },
    {
      "cell_type": "code",
      "metadata": {
        "id": "SBIGUuAIFMVs"
      },
      "source": [
        "# Preparação de dados\n",
        "# Primeiro, devemos importar as bibliotecas necessárias\n",
        "\n",
        "# Lib de Análise de Dados Pandas:\n",
        "import pandas as pd \n",
        "# Lib de computação científica: \n",
        "import numpy as np  \n"
      ],
      "execution_count": 1,
      "outputs": []
    },
    {
      "cell_type": "code",
      "metadata": {
        "id": "3T_8e2F1F8v6",
        "colab": {
          "base_uri": "https://localhost:8080/"
        },
        "outputId": "e0699cd7-0e3c-48d6-80d0-37ee6a2f5b89"
      },
      "source": [
        "# Usando o pandas, podemos baixar o conjunto de dados de um determinado URL  \n",
        "# e convertê-lo em um conjunto de dados:\n",
        "\n",
        "url = \"https://archive.ics.uci.edu/ml/machine-learning-databases/iris/iris.data\"\n",
        "#new_names = ['sepal_length','sepal_width','petal_length','petal_width','iris_class']\n",
        "new_names = ['altura_sépala','largula_sépala','altura_pétala','largura_pétala','tipo_de_iris']\n",
        "dataset = pd.read_csv(url, names=new_names, skiprows=0, delimiter=',')\n",
        "dataset.info()"
      ],
      "execution_count": 2,
      "outputs": [
        {
          "output_type": "stream",
          "name": "stdout",
          "text": [
            "<class 'pandas.core.frame.DataFrame'>\n",
            "RangeIndex: 150 entries, 0 to 149\n",
            "Data columns (total 5 columns):\n",
            " #   Column          Non-Null Count  Dtype  \n",
            "---  ------          --------------  -----  \n",
            " 0   altura_sépala   150 non-null    float64\n",
            " 1   largula_sépala  150 non-null    float64\n",
            " 2   altura_pétala   150 non-null    float64\n",
            " 3   largura_pétala  150 non-null    float64\n",
            " 4   tipo_de_iris    150 non-null    object \n",
            "dtypes: float64(4), object(1)\n",
            "memory usage: 6.0+ KB\n"
          ]
        }
      ]
    },
    {
      "cell_type": "code",
      "source": [
        "dataset.describe()"
      ],
      "metadata": {
        "colab": {
          "base_uri": "https://localhost:8080/",
          "height": 300
        },
        "id": "VTiz5eiZH8zX",
        "outputId": "e0ed538e-4eb5-47b4-c1b0-7dcbb8e170c1"
      },
      "execution_count": 5,
      "outputs": [
        {
          "output_type": "execute_result",
          "data": {
            "text/plain": [
              "       altura_sépala  largula_sépala  altura_pétala  largura_pétala\n",
              "count     150.000000      150.000000     150.000000      150.000000\n",
              "mean        5.843333        3.054000       3.758667        1.198667\n",
              "std         0.828066        0.433594       1.764420        0.763161\n",
              "min         4.300000        2.000000       1.000000        0.100000\n",
              "25%         5.100000        2.800000       1.600000        0.300000\n",
              "50%         5.800000        3.000000       4.350000        1.300000\n",
              "75%         6.400000        3.300000       5.100000        1.800000\n",
              "max         7.900000        4.400000       6.900000        2.500000"
            ],
            "text/html": [
              "\n",
              "  <div id=\"df-78859c05-695d-4152-aa92-0fd3e40f4cdf\">\n",
              "    <div class=\"colab-df-container\">\n",
              "      <div>\n",
              "<style scoped>\n",
              "    .dataframe tbody tr th:only-of-type {\n",
              "        vertical-align: middle;\n",
              "    }\n",
              "\n",
              "    .dataframe tbody tr th {\n",
              "        vertical-align: top;\n",
              "    }\n",
              "\n",
              "    .dataframe thead th {\n",
              "        text-align: right;\n",
              "    }\n",
              "</style>\n",
              "<table border=\"1\" class=\"dataframe\">\n",
              "  <thead>\n",
              "    <tr style=\"text-align: right;\">\n",
              "      <th></th>\n",
              "      <th>altura_sépala</th>\n",
              "      <th>largula_sépala</th>\n",
              "      <th>altura_pétala</th>\n",
              "      <th>largura_pétala</th>\n",
              "    </tr>\n",
              "  </thead>\n",
              "  <tbody>\n",
              "    <tr>\n",
              "      <th>count</th>\n",
              "      <td>150.000000</td>\n",
              "      <td>150.000000</td>\n",
              "      <td>150.000000</td>\n",
              "      <td>150.000000</td>\n",
              "    </tr>\n",
              "    <tr>\n",
              "      <th>mean</th>\n",
              "      <td>5.843333</td>\n",
              "      <td>3.054000</td>\n",
              "      <td>3.758667</td>\n",
              "      <td>1.198667</td>\n",
              "    </tr>\n",
              "    <tr>\n",
              "      <th>std</th>\n",
              "      <td>0.828066</td>\n",
              "      <td>0.433594</td>\n",
              "      <td>1.764420</td>\n",
              "      <td>0.763161</td>\n",
              "    </tr>\n",
              "    <tr>\n",
              "      <th>min</th>\n",
              "      <td>4.300000</td>\n",
              "      <td>2.000000</td>\n",
              "      <td>1.000000</td>\n",
              "      <td>0.100000</td>\n",
              "    </tr>\n",
              "    <tr>\n",
              "      <th>25%</th>\n",
              "      <td>5.100000</td>\n",
              "      <td>2.800000</td>\n",
              "      <td>1.600000</td>\n",
              "      <td>0.300000</td>\n",
              "    </tr>\n",
              "    <tr>\n",
              "      <th>50%</th>\n",
              "      <td>5.800000</td>\n",
              "      <td>3.000000</td>\n",
              "      <td>4.350000</td>\n",
              "      <td>1.300000</td>\n",
              "    </tr>\n",
              "    <tr>\n",
              "      <th>75%</th>\n",
              "      <td>6.400000</td>\n",
              "      <td>3.300000</td>\n",
              "      <td>5.100000</td>\n",
              "      <td>1.800000</td>\n",
              "    </tr>\n",
              "    <tr>\n",
              "      <th>max</th>\n",
              "      <td>7.900000</td>\n",
              "      <td>4.400000</td>\n",
              "      <td>6.900000</td>\n",
              "      <td>2.500000</td>\n",
              "    </tr>\n",
              "  </tbody>\n",
              "</table>\n",
              "</div>\n",
              "      <button class=\"colab-df-convert\" onclick=\"convertToInteractive('df-78859c05-695d-4152-aa92-0fd3e40f4cdf')\"\n",
              "              title=\"Convert this dataframe to an interactive table.\"\n",
              "              style=\"display:none;\">\n",
              "        \n",
              "  <svg xmlns=\"http://www.w3.org/2000/svg\" height=\"24px\"viewBox=\"0 0 24 24\"\n",
              "       width=\"24px\">\n",
              "    <path d=\"M0 0h24v24H0V0z\" fill=\"none\"/>\n",
              "    <path d=\"M18.56 5.44l.94 2.06.94-2.06 2.06-.94-2.06-.94-.94-2.06-.94 2.06-2.06.94zm-11 1L8.5 8.5l.94-2.06 2.06-.94-2.06-.94L8.5 2.5l-.94 2.06-2.06.94zm10 10l.94 2.06.94-2.06 2.06-.94-2.06-.94-.94-2.06-.94 2.06-2.06.94z\"/><path d=\"M17.41 7.96l-1.37-1.37c-.4-.4-.92-.59-1.43-.59-.52 0-1.04.2-1.43.59L10.3 9.45l-7.72 7.72c-.78.78-.78 2.05 0 2.83L4 21.41c.39.39.9.59 1.41.59.51 0 1.02-.2 1.41-.59l7.78-7.78 2.81-2.81c.8-.78.8-2.07 0-2.86zM5.41 20L4 18.59l7.72-7.72 1.47 1.35L5.41 20z\"/>\n",
              "  </svg>\n",
              "      </button>\n",
              "      \n",
              "  <style>\n",
              "    .colab-df-container {\n",
              "      display:flex;\n",
              "      flex-wrap:wrap;\n",
              "      gap: 12px;\n",
              "    }\n",
              "\n",
              "    .colab-df-convert {\n",
              "      background-color: #E8F0FE;\n",
              "      border: none;\n",
              "      border-radius: 50%;\n",
              "      cursor: pointer;\n",
              "      display: none;\n",
              "      fill: #1967D2;\n",
              "      height: 32px;\n",
              "      padding: 0 0 0 0;\n",
              "      width: 32px;\n",
              "    }\n",
              "\n",
              "    .colab-df-convert:hover {\n",
              "      background-color: #E2EBFA;\n",
              "      box-shadow: 0px 1px 2px rgba(60, 64, 67, 0.3), 0px 1px 3px 1px rgba(60, 64, 67, 0.15);\n",
              "      fill: #174EA6;\n",
              "    }\n",
              "\n",
              "    [theme=dark] .colab-df-convert {\n",
              "      background-color: #3B4455;\n",
              "      fill: #D2E3FC;\n",
              "    }\n",
              "\n",
              "    [theme=dark] .colab-df-convert:hover {\n",
              "      background-color: #434B5C;\n",
              "      box-shadow: 0px 1px 3px 1px rgba(0, 0, 0, 0.15);\n",
              "      filter: drop-shadow(0px 1px 2px rgba(0, 0, 0, 0.3));\n",
              "      fill: #FFFFFF;\n",
              "    }\n",
              "  </style>\n",
              "\n",
              "      <script>\n",
              "        const buttonEl =\n",
              "          document.querySelector('#df-78859c05-695d-4152-aa92-0fd3e40f4cdf button.colab-df-convert');\n",
              "        buttonEl.style.display =\n",
              "          google.colab.kernel.accessAllowed ? 'block' : 'none';\n",
              "\n",
              "        async function convertToInteractive(key) {\n",
              "          const element = document.querySelector('#df-78859c05-695d-4152-aa92-0fd3e40f4cdf');\n",
              "          const dataTable =\n",
              "            await google.colab.kernel.invokeFunction('convertToInteractive',\n",
              "                                                     [key], {});\n",
              "          if (!dataTable) return;\n",
              "\n",
              "          const docLinkHtml = 'Like what you see? Visit the ' +\n",
              "            '<a target=\"_blank\" href=https://colab.research.google.com/notebooks/data_table.ipynb>data table notebook</a>'\n",
              "            + ' to learn more about interactive tables.';\n",
              "          element.innerHTML = '';\n",
              "          dataTable['output_type'] = 'display_data';\n",
              "          await google.colab.output.renderOutput(dataTable, element);\n",
              "          const docLink = document.createElement('div');\n",
              "          docLink.innerHTML = docLinkHtml;\n",
              "          element.appendChild(docLink);\n",
              "        }\n",
              "      </script>\n",
              "    </div>\n",
              "  </div>\n",
              "  "
            ]
          },
          "metadata": {},
          "execution_count": 5
        }
      ]
    },
    {
      "cell_type": "code",
      "metadata": {
        "id": "kHv5plNuGXHb"
      },
      "source": [
        "# Vamos analisar nosso conjunto de dados. Use dataset.head (n) para exibir os n dados principais. \n",
        "# Altere dataset.head (n) para dataset.sample(n) para exibir os dados:\n",
        "dataset.head(150)"
      ],
      "execution_count": null,
      "outputs": []
    },
    {
      "cell_type": "code",
      "metadata": {
        "id": "SO8GIW4vGyZq",
        "colab": {
          "base_uri": "https://localhost:8080/"
        },
        "outputId": "b88d3241-19a4-48b9-a163-b89079b72de5"
      },
      "source": [
        "# Agora que nosso conjunto de dados está pronto, podemos separar os dados de  \n",
        "# entrada (x) e a classe de saída (y). O dado de entrada será uma matriz 150x4 (150 amostras \n",
        "# com sepal_length, sepal_width, petal_length e petal_width) e a saída 150x1 (iris_class):\n",
        "\n",
        "# A variável y (saída) será composta somente da classe de saída:\n",
        "y = dataset['tipo_de_iris']\n",
        "# Lembramos de remover a saída dos x's de entrada: \n",
        "x = dataset.drop(['tipo_de_iris'], axis=1)\n",
        "\n",
        "print (\"dataset : \",dataset.shape)\n",
        "print (\"x : \",x.shape)\n",
        "print (\"y : \",y.shape)"
      ],
      "execution_count": 6,
      "outputs": [
        {
          "output_type": "stream",
          "name": "stdout",
          "text": [
            "dataset :  (150, 5)\n",
            "x :  (150, 4)\n",
            "y :  (150,)\n"
          ]
        }
      ]
    },
    {
      "cell_type": "code",
      "metadata": {
        "id": "bkaI0pbRHW_Y"
      },
      "source": [
        "# Agora vamos criar nossa rede neural, um Classificador Multi-Layer Perceptron (MLP).\n",
        "# Precisamos codificar nosso atributo de destino para classificador baseado em Rede Neural \n",
        "# em um formato adequado. Podemos fazer isso chamando o método get_dummies (y) do Pandas. \n",
        "# Com este método converteremos a saída para valores \"one hot\": \n",
        "# Iris setosa: 100\n",
        "# Iris versicolor: 010 \n",
        "# Iris virginica: 001\n",
        "# one hot encoding:\n",
        "y=pd.get_dummies(y)\n",
        "# Imprimindo 9 exemplos aleatoriamente, para ver os dados:\n",
        "y.sample(9)"
      ],
      "execution_count": null,
      "outputs": []
    },
    {
      "cell_type": "code",
      "metadata": {
        "id": "2r_KGmPNIPIF",
        "colab": {
          "base_uri": "https://localhost:8080/"
        },
        "outputId": "6c621dad-3ad0-49a0-d77d-106c4db340b6"
      },
      "source": [
        "# Agora que nosso dataset está pronto, temos que separá-lo em conjunto de treinamento e teste. \n",
        "# Podemos fazer isso usando o método scikit learn train_test_split():\n",
        "\n",
        "# Importa o train_test_split do Scikit Learn: \n",
        "from sklearn.model_selection import train_test_split\n",
        "\n",
        "# Gerando conjunto de treino e teste (15% para teste):\n",
        "x_train, x_test, y_train, y_test = train_test_split(x,y, test_size=0.15) #0.15 data as data test\n",
        "\n",
        "# Precisamos converter nosso conjunto de dados para float 32bits, que é o que a MLP recebe:\n",
        "x_train = np.array(x_train).astype(np.float32)\n",
        "x_test  = np.array(x_test).astype(np.float32)\n",
        "y_train = np.array(y_train).astype(np.float32)\n",
        "y_test  = np.array(y_test).astype(np.float32)\n",
        "\n",
        "# Vamos imprimir o conjunto de dados para validação:\n",
        "print(x_train.shape, y_train.shape)\n",
        "print(x_test.shape, y_test.shape)"
      ],
      "execution_count": 30,
      "outputs": [
        {
          "output_type": "stream",
          "name": "stdout",
          "text": [
            "(127, 4) (127, 3)\n",
            "(23, 4) (23, 3)\n"
          ]
        }
      ]
    },
    {
      "cell_type": "code",
      "metadata": {
        "id": "wLn8qlv5JO6T"
      },
      "source": [
        "# Nossa rede neural será 4 x 3 x 2 x 3, portanto as camadas ocultas são (10 unidades e 5 unidades). \n",
        "# Definimos nossa iteração máxima como 10.000 para treinar \n",
        "# alfa como 0,01 para nossa taxa de aprendizado. Definimos verbose como 0 nao imprimindo as saídas \n",
        "# durante o processo de treinamento. Random_state é usado como uma semente aleatória:\n",
        "\n",
        "# Importanto a lib de MLP\n",
        "from sklearn.neural_network import MLPClassifier\n",
        "\n",
        "# Initialização do modelo:\n",
        "Model = MLPClassifier(hidden_layer_sizes=(3,2), max_iter=10000, alpha=0.01, #try change hidden layer\n",
        "                     solver='sgd', verbose=1,  random_state=233) #try verbode=0 to train with out logging\n",
        "#train our model\n",
        "h=Model.fit(x_train,y_train)\n",
        "\n",
        "#use our model to predict\n",
        "y_pred=Model.predict(x_test)"
      ],
      "execution_count": null,
      "outputs": []
    },
    {
      "cell_type": "code",
      "metadata": {
        "id": "jjso0E0_KiYv",
        "colab": {
          "base_uri": "https://localhost:8080/"
        },
        "outputId": "dda1e636-7a61-46d1-f6b7-bc3984823ad6"
      },
      "source": [
        "# Depois de terminar o processo de treinamento, podemos usar nosso modelo treinado \n",
        "# com o método model.predict(). Para obter o nosso resultado de classificação, podemos \n",
        "# importar classification_report de sklearn.matrix e chamar \n",
        "# classification_report( \"saída correta, predição\" ). Para mostrar os resultados \n",
        "# na matriz de confusão e precisão, também precisamos importá-los de sklearn.matrix:\n",
        "\n",
        "from sklearn.metrics import mean_squared_error \n",
        "from sklearn.metrics import classification_report\n",
        "from sklearn.metrics import confusion_matrix\n",
        "from sklearn.metrics import accuracy_score\n",
        "\n",
        "# Imprime relatório de performance:\n",
        "print(classification_report(y_test,y_pred))\n",
        "# Imprime a matriz de confusão (Confusion matrix): \n",
        "print(confusion_matrix(y_test.argmax(axis=1), y_pred.argmax(axis=1)))\n",
        "# Imprime a taxa de acerto:  \n",
        "print('accuracy is ',accuracy_score(y_pred,y_test)) \n"
      ],
      "execution_count": 32,
      "outputs": [
        {
          "output_type": "stream",
          "name": "stdout",
          "text": [
            "              precision    recall  f1-score   support\n",
            "\n",
            "           0       1.00      1.00      1.00         6\n",
            "           1       0.00      0.00      0.00         7\n",
            "           2       1.00      1.00      1.00        10\n",
            "\n",
            "   micro avg       1.00      0.70      0.82        23\n",
            "   macro avg       0.67      0.67      0.67        23\n",
            "weighted avg       0.70      0.70      0.70        23\n",
            " samples avg       0.70      0.70      0.70        23\n",
            "\n",
            "[[ 6  0  0]\n",
            " [ 7  0  0]\n",
            " [ 0  0 10]]\n",
            "accuracy is  0.6956521739130435\n"
          ]
        },
        {
          "output_type": "stream",
          "name": "stderr",
          "text": [
            "/usr/local/lib/python3.8/dist-packages/sklearn/metrics/_classification.py:1318: UndefinedMetricWarning: Precision and F-score are ill-defined and being set to 0.0 in labels with no predicted samples. Use `zero_division` parameter to control this behavior.\n",
            "  _warn_prf(average, modifier, msg_start, len(result))\n",
            "/usr/local/lib/python3.8/dist-packages/sklearn/metrics/_classification.py:1318: UndefinedMetricWarning: Precision and F-score are ill-defined and being set to 0.0 in samples with no predicted labels. Use `zero_division` parameter to control this behavior.\n",
            "  _warn_prf(average, modifier, msg_start, len(result))\n"
          ]
        }
      ]
    },
    {
      "cell_type": "code",
      "metadata": {
        "id": "x7sWjFm3LiCu",
        "colab": {
          "base_uri": "https://localhost:8080/",
          "height": 312
        },
        "outputId": "cffa9c8a-e90f-48be-d1c5-d302caf00217"
      },
      "source": [
        "# Se quisermos mostrar nosso histórico de loss do modelo, \n",
        "# podemos representar graficamente a propriedade loss_curve_ de nosso modelo treinado:\n",
        "\n",
        "import matplotlib.pyplot as plt\n",
        "\n",
        "plt.plot(h.loss_curve_)\n",
        "plt.title('Loss History')\n",
        "plt.xlabel('epoch')\n",
        "plt.legend(['Loss'])\n"
      ],
      "execution_count": 33,
      "outputs": [
        {
          "output_type": "execute_result",
          "data": {
            "text/plain": [
              "<matplotlib.legend.Legend at 0x7f5d054f4ca0>"
            ]
          },
          "metadata": {},
          "execution_count": 33
        },
        {
          "output_type": "display_data",
          "data": {
            "text/plain": [
              "<Figure size 432x288 with 1 Axes>"
            ],
            "image/png": "[encoded data removed]"
          },
          "metadata": {
            "needs_background": "light"
          }
        }
      ]
    },
    {
      "cell_type": "code",
      "source": [
        "# Lembrando de como codificamos nossas saídas:\n",
        "\n",
        "# Iris setosa: 100\n",
        "Iris_setosa = np.array( [[1,0,0]] )\n",
        "# Iris versicolor: 010 \n",
        "Iris_versicolor = np.array( [[0,1,0]] )\n",
        "# Iris virginica: 001\n",
        "Iris_virginica  = np.array( [[0,0,1]] )\n",
        "\n",
        "# Agora podemos fazer previsões com o nosso modelo:\n",
        "entrada_exemplo = np.array([[5.4,3.7,1.5,0.2]])\n",
        "\n",
        "y_previsto = Model.predict(entrada_exemplo)\n",
        "\n",
        "# Caso a saída seja Iris setosa (100):\n",
        "if np.array_equal(y_previsto, Iris_setosa) == True:\n",
        "  print('Iris setosa')\n",
        "\n",
        "# Caso a saída seja Iris versicolor (010):\n",
        "if np.array_equal(y_previsto, Iris_versicolor) == True:\n",
        "  print('Iris versicolor')\n",
        "\n",
        "# Caso a saída seja Iris virginica (001):\n",
        "if np.array_equal(y_previsto, Iris_virginica) == True:\n",
        "  print('Iris virginica')\n"
      ],
      "metadata": {
        "colab": {
          "base_uri": "https://localhost:8080/"
        },
        "id": "uByQcud1q3hj",
        "outputId": "85e323a8-c28e-4c27-c7d9-fd5d2ea81f1b"
      },
      "execution_count": 34,
      "outputs": [
        {
          "output_type": "stream",
          "name": "stdout",
          "text": [
            "Iris setosa\n"
          ]
        }
      ]
    },
    {
      "cell_type": "code",
      "source": [
        "dataset.loc[(dataset['altura_sépala'] == 5.4)&(dataset['largula_sépala'] == 3.7)&(dataset['altura_pétala'] == 1.5)&(dataset['largura_pétala'] == 0.2)]"
      ],
      "metadata": {
        "colab": {
          "base_uri": "https://localhost:8080/",
          "height": 81
        },
        "id": "FRx66k0uPkgE",
        "outputId": "d8f696f6-b980-4230-e9b8-3d4015214643"
      },
      "execution_count": 44,
      "outputs": [
        {
          "output_type": "execute_result",
          "data": {
            "text/plain": [
              "    altura_sépala  largula_sépala  altura_pétala  largura_pétala tipo_de_iris\n",
              "10            5.4             3.7            1.5             0.2  Iris-setosa"
            ],
            "text/html": [
              "\n",
              "  <div id=\"df-e0ddb69e-bbfd-437c-a1aa-6aae0d3198b6\">\n",
              "    <div class=\"colab-df-container\">\n",
              "      <div>\n",
              "<style scoped>\n",
              "    .dataframe tbody tr th:only-of-type {\n",
              "        vertical-align: middle;\n",
              "    }\n",
              "\n",
              "    .dataframe tbody tr th {\n",
              "        vertical-align: top;\n",
              "    }\n",
              "\n",
              "    .dataframe thead th {\n",
              "        text-align: right;\n",
              "    }\n",
              "</style>\n",
              "<table border=\"1\" class=\"dataframe\">\n",
              "  <thead>\n",
              "    <tr style=\"text-align: right;\">\n",
              "      <th></th>\n",
              "      <th>altura_sépala</th>\n",
              "      <th>largula_sépala</th>\n",
              "      <th>altura_pétala</th>\n",
              "      <th>largura_pétala</th>\n",
              "      <th>tipo_de_iris</th>\n",
              "    </tr>\n",
              "  </thead>\n",
              "  <tbody>\n",
              "    <tr>\n",
              "      <th>10</th>\n",
              "      <td>5.4</td>\n",
              "      <td>3.7</td>\n",
              "      <td>1.5</td>\n",
              "      <td>0.2</td>\n",
              "      <td>Iris-setosa</td>\n",
              "    </tr>\n",
              "  </tbody>\n",
              "</table>\n",
              "</div>\n",
              "      <button class=\"colab-df-convert\" onclick=\"convertToInteractive('df-e0ddb69e-bbfd-437c-a1aa-6aae0d3198b6')\"\n",
              "              title=\"Convert this dataframe to an interactive table.\"\n",
              "              style=\"display:none;\">\n",
              "        \n",
              "  <svg xmlns=\"http://www.w3.org/2000/svg\" height=\"24px\"viewBox=\"0 0 24 24\"\n",
              "       width=\"24px\">\n",
              "    <path d=\"M0 0h24v24H0V0z\" fill=\"none\"/>\n",
              "    <path d=\"M18.56 5.44l.94 2.06.94-2.06 2.06-.94-2.06-.94-.94-2.06-.94 2.06-2.06.94zm-11 1L8.5 8.5l.94-2.06 2.06-.94-2.06-.94L8.5 2.5l-.94 2.06-2.06.94zm10 10l.94 2.06.94-2.06 2.06-.94-2.06-.94-.94-2.06-.94 2.06-2.06.94z\"/><path d=\"M17.41 7.96l-1.37-1.37c-.4-.4-.92-.59-1.43-.59-.52 0-1.04.2-1.43.59L10.3 9.45l-7.72 7.72c-.78.78-.78 2.05 0 2.83L4 21.41c.39.39.9.59 1.41.59.51 0 1.02-.2 1.41-.59l7.78-7.78 2.81-2.81c.8-.78.8-2.07 0-2.86zM5.41 20L4 18.59l7.72-7.72 1.47 1.35L5.41 20z\"/>\n",
              "  </svg>\n",
              "      </button>\n",
              "      \n",
              "  <style>\n",
              "    .colab-df-container {\n",
              "      display:flex;\n",
              "      flex-wrap:wrap;\n",
              "      gap: 12px;\n",
              "    }\n",
              "\n",
              "    .colab-df-convert {\n",
              "      background-color: #E8F0FE;\n",
              "      border: none;\n",
              "      border-radius: 50%;\n",
              "      cursor: pointer;\n",
              "      display: none;\n",
              "      fill: #1967D2;\n",
              "      height: 32px;\n",
              "      padding: 0 0 0 0;\n",
              "      width: 32px;\n",
              "    }\n",
              "\n",
              "    .colab-df-convert:hover {\n",
              "      background-color: #E2EBFA;\n",
              "      box-shadow: 0px 1px 2px rgba(60, 64, 67, 0.3), 0px 1px 3px 1px rgba(60, 64, 67, 0.15);\n",
              "      fill: #174EA6;\n",
              "    }\n",
              "\n",
              "    [theme=dark] .colab-df-convert {\n",
              "      background-color: #3B4455;\n",
              "      fill: #D2E3FC;\n",
              "    }\n",
              "\n",
              "    [theme=dark] .colab-df-convert:hover {\n",
              "      background-color: #434B5C;\n",
              "      box-shadow: 0px 1px 3px 1px rgba(0, 0, 0, 0.15);\n",
              "      filter: drop-shadow(0px 1px 2px rgba(0, 0, 0, 0.3));\n",
              "      fill: #FFFFFF;\n",
              "    }\n",
              "  </style>\n",
              "\n",
              "      <script>\n",
              "        const buttonEl =\n",
              "          document.querySelector('#df-e0ddb69e-bbfd-437c-a1aa-6aae0d3198b6 button.colab-df-convert');\n",
              "        buttonEl.style.display =\n",
              "          google.colab.kernel.accessAllowed ? 'block' : 'none';\n",
              "\n",
              "        async function convertToInteractive(key) {\n",
              "          const element = document.querySelector('#df-e0ddb69e-bbfd-437c-a1aa-6aae0d3198b6');\n",
              "          const dataTable =\n",
              "            await google.colab.kernel.invokeFunction('convertToInteractive',\n",
              "                                                     [key], {});\n",
              "          if (!dataTable) return;\n",
              "\n",
              "          const docLinkHtml = 'Like what you see? Visit the ' +\n",
              "            '<a target=\"_blank\" href=https://colab.research.google.com/notebooks/data_table.ipynb>data table notebook</a>'\n",
              "            + ' to learn more about interactive tables.';\n",
              "          element.innerHTML = '';\n",
              "          dataTable['output_type'] = 'display_data';\n",
              "          await google.colab.output.renderOutput(dataTable, element);\n",
              "          const docLink = document.createElement('div');\n",
              "          docLink.innerHTML = docLinkHtml;\n",
              "          element.appendChild(docLink);\n",
              "        }\n",
              "      </script>\n",
              "    </div>\n",
              "  </div>\n",
              "  "
            ]
          },
          "metadata": {},
          "execution_count": 44
        }
      ]
    },
    {
      "cell_type": "code",
      "source": [],
      "metadata": {
        "id": "9HAzExgkPriz"
      },
      "execution_count": null,
      "outputs": []
    }
  ]
}